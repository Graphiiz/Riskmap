{
 "cells": [
  {
   "cell_type": "code",
   "execution_count": 28,
   "metadata": {},
   "outputs": [],
   "source": [
    "import pandas as pd\n",
    "import numpy as np\n",
    "from collections import *\n",
    "from sklearn.cluster import KMeans\n",
    "from sklearn.preprocessing import StandardScaler\n",
    "import matplotlib.pyplot as plt\n",
    "# from datetime import datetime\n",
    "from datetime import datetime\n",
    "import datetime\n",
    "import requests\n",
    "import json"
   ]
  },
  {
   "cell_type": "markdown",
   "metadata": {},
   "source": [
    "Dependent file:\n",
    "* CB_and_number_of_use.xlsx\n",
    "* fault_location_22.11.2_3_FD.xlsx\n",
    "* NE2-name.xlsx"
   ]
  },
  {
   "cell_type": "markdown",
   "metadata": {},
   "source": [
    "# number of user per CB"
   ]
  },
  {
   "cell_type": "code",
   "execution_count": 2,
   "metadata": {},
   "outputs": [],
   "source": [
    "cb = pd.read_excel('CB_and_number_of_use.xlsx', index_col=False)"
   ]
  },
  {
   "cell_type": "code",
   "execution_count": 4,
   "metadata": {},
   "outputs": [
    {
     "name": "stdout",
     "output_type": "stream",
     "text": [
      "<class 'pandas.core.frame.DataFrame'>\n",
      "RangeIndex: 525 entries, 0 to 524\n",
      "Data columns (total 3 columns):\n",
      " #   Column      Non-Null Count  Dtype \n",
      "---  ------      --------------  ----- \n",
      " 0   FEEDERID    523 non-null    object\n",
      " 1   FACILITYID  525 non-null    object\n",
      " 2   NUMBEROFUS  525 non-null    int64 \n",
      "dtypes: int64(1), object(2)\n",
      "memory usage: 12.4+ KB\n"
     ]
    }
   ],
   "source": [
    "cb.info()"
   ]
  },
  {
   "cell_type": "code",
   "execution_count": 7,
   "metadata": {},
   "outputs": [],
   "source": [
    "cb_user_dict = {}\n",
    "facility_id = cb['FACILITYID'].tolist()\n",
    "number_user = cb['NUMBEROFUS'].tolist()\n",
    "\n",
    "assert len(facility_id) == len(number_user), 'length not compatible'\n",
    "assert type(facility_id[0]) == str, 'type (device id) not compatible'\n",
    "assert type(number_user[0]) == int, 'type (number of user) not compatible'\n",
    "\n",
    "for i in range(len(facility_id)):\n",
    "    cb_user_dict[facility_id[i]] = number_user[i]"
   ]
  },
  {
   "cell_type": "code",
   "execution_count": 12,
   "metadata": {},
   "outputs": [
    {
     "data": {
      "text/plain": [
       "24692"
      ]
     },
     "execution_count": 12,
     "metadata": {},
     "output_type": "execute_result"
    }
   ],
   "source": [
    "max(number_user) - min(number_user)"
   ]
  },
  {
   "cell_type": "code",
   "execution_count": 123,
   "metadata": {},
   "outputs": [
    {
     "name": "stdout",
     "output_type": "stream",
     "text": [
      "0.0\n",
      "0.6000000000000227\n",
      "3520.1999999999985\n",
      "9206.400000000001\n",
      "12975.600000000002\n"
     ]
    }
   ],
   "source": [
    "# compute 5 range, splitting every 20 percentile\n",
    "p1 = np.percentile(number_user,20)\n",
    "p2 = np.percentile(number_user,40)\n",
    "p3 = np.percentile(number_user,60)\n",
    "p4 = np.percentile(number_user,80)\n",
    "p5 = np.percentile(number_user,90)\n",
    "print(p1)\n",
    "print(p2)\n",
    "print(p3)\n",
    "print(p4)\n",
    "print(p5)"
   ]
  },
  {
   "cell_type": "markdown",
   "metadata": {},
   "source": [
    "# SFLA data (POST API)"
   ]
  },
  {
   "cell_type": "code",
   "execution_count": 74,
   "metadata": {},
   "outputs": [],
   "source": [
    "data = pd.read_excel('fault_location_22.11.2_3_FD.xlsx', index_col=False)"
   ]
  },
  {
   "cell_type": "code",
   "execution_count": 75,
   "metadata": {},
   "outputs": [],
   "source": [
    "sfla = data.to_numpy()"
   ]
  },
  {
   "cell_type": "code",
   "execution_count": 76,
   "metadata": {},
   "outputs": [],
   "source": [
    "# data to be sent to api\n",
    "sfla_data = []\n",
    "for i in range(len(sfla)):\n",
    "    d = {\n",
    "        'db_time': sfla[i][0].strftime(\"%m/%d/%Y %H:%M:%S\"),\n",
    "        'ev_device': sfla[i][1],\n",
    "        'ev_type': sfla[i][2],\n",
    "        'fault_type': sfla[i][3],\n",
    "        'amp': sfla[i][4],\n",
    "        'lat': sfla[i][5],\n",
    "        'long': sfla[i][6],\n",
    "        'dev_id': sfla[i][7],\n",
    "        'aoj_name': sfla[i][8],\n",
    "        'aoj_code': sfla[i][9]\n",
    "    }\n",
    "    sfla_data.append(d)"
   ]
  },
  {
   "cell_type": "code",
   "execution_count": 77,
   "metadata": {},
   "outputs": [
    {
     "name": "stdout",
     "output_type": "stream",
     "text": [
      "The pastebin URL is:Create SFLA API OK\n"
     ]
    }
   ],
   "source": [
    "# defining the api-endpoint \n",
    "API_ENDPOINT_WRITE_SFLA = \"http://127.0.0.1:1234/SFLA\"\n",
    "\n",
    "# sending post request and saving response as response object\n",
    "headers = {'Content-Type': 'application/json', 'Accept':'application/json'}\n",
    "r = requests.post(url = API_ENDPOINT_WRITE_SFLA, data = json.dumps(sfla_data), headers=headers)\n",
    "  \n",
    "# extracting response text \n",
    "pastebin_url = r.text\n",
    "print(\"The pastebin URL is:%s\"%pastebin_url)"
   ]
  },
  {
   "cell_type": "markdown",
   "metadata": {},
   "source": [
    "# SFLA data (GET API)"
   ]
  },
  {
   "cell_type": "code",
   "execution_count": 78,
   "metadata": {},
   "outputs": [],
   "source": [
    "# api-endpoint\n",
    "URL = \"http://127.0.0.1:1234/SFLA\"\n",
    "  \n",
    "# sending get request and saving the response as response object\n",
    "r = requests.get(url = URL)\n",
    "  \n",
    "# extracting data in json format\n",
    "data_get = r.json()"
   ]
  },
  {
   "cell_type": "code",
   "execution_count": 79,
   "metadata": {},
   "outputs": [],
   "source": [
    "for i in range(len(data_get)):\n",
    "    datetime_object = datetime.datetime.strptime(data_get[i]['db_time'], '%m/%d/%Y %H:%M:%S')\n",
    "    data_get[i]['db_time'] = datetime_object"
   ]
  },
  {
   "cell_type": "code",
   "execution_count": 80,
   "metadata": {},
   "outputs": [],
   "source": [
    "# convert json to numpy\n",
    "sfla = pd.json_normalize(data_get)"
   ]
  },
  {
   "cell_type": "code",
   "execution_count": 81,
   "metadata": {},
   "outputs": [
    {
     "data": {
      "text/html": [
       "<div>\n",
       "<style scoped>\n",
       "    .dataframe tbody tr th:only-of-type {\n",
       "        vertical-align: middle;\n",
       "    }\n",
       "\n",
       "    .dataframe tbody tr th {\n",
       "        vertical-align: top;\n",
       "    }\n",
       "\n",
       "    .dataframe thead th {\n",
       "        text-align: right;\n",
       "    }\n",
       "</style>\n",
       "<table border=\"1\" class=\"dataframe\">\n",
       "  <thead>\n",
       "    <tr style=\"text-align: right;\">\n",
       "      <th></th>\n",
       "      <th>db_time</th>\n",
       "      <th>ev_device</th>\n",
       "      <th>ev_type</th>\n",
       "      <th>fault_type</th>\n",
       "      <th>amp</th>\n",
       "      <th>lat</th>\n",
       "      <th>long</th>\n",
       "      <th>dev_id</th>\n",
       "      <th>aoj_name</th>\n",
       "      <th>aoj_code</th>\n",
       "    </tr>\n",
       "  </thead>\n",
       "  <tbody>\n",
       "    <tr>\n",
       "      <th>0</th>\n",
       "      <td>2021-08-02 23:42:17</td>\n",
       "      <td>WRA06VB-01</td>\n",
       "      <td>TR1</td>\n",
       "      <td>BGTIME</td>\n",
       "      <td>603</td>\n",
       "      <td>15.172772</td>\n",
       "      <td>104.795120</td>\n",
       "      <td>WRA06</td>\n",
       "      <td>กฟส.กันทรารมย์</td>\n",
       "      <td>E02501</td>\n",
       "    </tr>\n",
       "    <tr>\n",
       "      <th>1</th>\n",
       "      <td>2021-08-02 23:42:17</td>\n",
       "      <td>WRA06VB-01</td>\n",
       "      <td>TR1</td>\n",
       "      <td>BGTIME</td>\n",
       "      <td>603</td>\n",
       "      <td>15.100765</td>\n",
       "      <td>104.607411</td>\n",
       "      <td>WRA06</td>\n",
       "      <td>กฟส.กันทรารมย์</td>\n",
       "      <td>E02501</td>\n",
       "    </tr>\n",
       "    <tr>\n",
       "      <th>2</th>\n",
       "      <td>2021-08-02 23:42:17</td>\n",
       "      <td>WRA06VB-01</td>\n",
       "      <td>TR1</td>\n",
       "      <td>BGTIME</td>\n",
       "      <td>603</td>\n",
       "      <td>15.100819</td>\n",
       "      <td>104.607825</td>\n",
       "      <td>WRA06</td>\n",
       "      <td>กฟส.กันทรารมย์</td>\n",
       "      <td>E02501</td>\n",
       "    </tr>\n",
       "    <tr>\n",
       "      <th>3</th>\n",
       "      <td>2021-08-02 23:42:17</td>\n",
       "      <td>WRA06VB-01</td>\n",
       "      <td>TR1</td>\n",
       "      <td>BGTIME</td>\n",
       "      <td>603</td>\n",
       "      <td>15.100979</td>\n",
       "      <td>104.607501</td>\n",
       "      <td>WRA06</td>\n",
       "      <td>กฟส.กันทรารมย์</td>\n",
       "      <td>E02501</td>\n",
       "    </tr>\n",
       "    <tr>\n",
       "      <th>4</th>\n",
       "      <td>2021-08-02 23:42:17</td>\n",
       "      <td>WRA06VB-01</td>\n",
       "      <td>TR1</td>\n",
       "      <td>BGTIME</td>\n",
       "      <td>603</td>\n",
       "      <td>15.100909</td>\n",
       "      <td>104.608454</td>\n",
       "      <td>WRA06</td>\n",
       "      <td>กฟส.กันทรารมย์</td>\n",
       "      <td>E02501</td>\n",
       "    </tr>\n",
       "    <tr>\n",
       "      <th>...</th>\n",
       "      <td>...</td>\n",
       "      <td>...</td>\n",
       "      <td>...</td>\n",
       "      <td>...</td>\n",
       "      <td>...</td>\n",
       "      <td>...</td>\n",
       "      <td>...</td>\n",
       "      <td>...</td>\n",
       "      <td>...</td>\n",
       "      <td>...</td>\n",
       "    </tr>\n",
       "    <tr>\n",
       "      <th>849</th>\n",
       "      <td>2022-09-16 13:03:51</td>\n",
       "      <td>RLA10VB-01</td>\n",
       "      <td>TR1</td>\n",
       "      <td>BCGTIME</td>\n",
       "      <td>987</td>\n",
       "      <td>15.245436</td>\n",
       "      <td>104.169534</td>\n",
       "      <td>RLA10</td>\n",
       "      <td>กฟส.อุทุมพรพิสัย</td>\n",
       "      <td>E02201</td>\n",
       "    </tr>\n",
       "    <tr>\n",
       "      <th>850</th>\n",
       "      <td>2022-09-16 13:03:51</td>\n",
       "      <td>RLA10VB-01</td>\n",
       "      <td>TR1</td>\n",
       "      <td>BCGTIME</td>\n",
       "      <td>987</td>\n",
       "      <td>15.221225</td>\n",
       "      <td>104.140112</td>\n",
       "      <td>RLA10</td>\n",
       "      <td>กฟส.อุทุมพรพิสัย</td>\n",
       "      <td>E02201</td>\n",
       "    </tr>\n",
       "    <tr>\n",
       "      <th>851</th>\n",
       "      <td>2022-09-16 13:03:51</td>\n",
       "      <td>RLA10VB-01</td>\n",
       "      <td>TR1</td>\n",
       "      <td>BCGTIME</td>\n",
       "      <td>987</td>\n",
       "      <td>15.278585</td>\n",
       "      <td>104.166938</td>\n",
       "      <td>RLA10</td>\n",
       "      <td>กฟส.อุทุมพรพิสัย</td>\n",
       "      <td>E02201</td>\n",
       "    </tr>\n",
       "    <tr>\n",
       "      <th>852</th>\n",
       "      <td>2022-09-16 13:03:51</td>\n",
       "      <td>RLA10VB-01</td>\n",
       "      <td>TR1</td>\n",
       "      <td>BCGTIME</td>\n",
       "      <td>987</td>\n",
       "      <td>15.278519</td>\n",
       "      <td>104.167406</td>\n",
       "      <td>RLA10</td>\n",
       "      <td>กฟส.อุทุมพรพิสัย</td>\n",
       "      <td>E02201</td>\n",
       "    </tr>\n",
       "    <tr>\n",
       "      <th>853</th>\n",
       "      <td>2022-09-16 13:03:51</td>\n",
       "      <td>RLA10VB-01</td>\n",
       "      <td>TR1</td>\n",
       "      <td>BCGTIME</td>\n",
       "      <td>987</td>\n",
       "      <td>15.278421</td>\n",
       "      <td>104.169038</td>\n",
       "      <td>RLA10</td>\n",
       "      <td>กฟส.อุทุมพรพิสัย</td>\n",
       "      <td>E02201</td>\n",
       "    </tr>\n",
       "  </tbody>\n",
       "</table>\n",
       "<p>854 rows × 10 columns</p>\n",
       "</div>"
      ],
      "text/plain": [
       "                db_time   ev_device ev_type fault_type  amp        lat  \\\n",
       "0   2021-08-02 23:42:17  WRA06VB-01     TR1     BGTIME  603  15.172772   \n",
       "1   2021-08-02 23:42:17  WRA06VB-01     TR1     BGTIME  603  15.100765   \n",
       "2   2021-08-02 23:42:17  WRA06VB-01     TR1     BGTIME  603  15.100819   \n",
       "3   2021-08-02 23:42:17  WRA06VB-01     TR1     BGTIME  603  15.100979   \n",
       "4   2021-08-02 23:42:17  WRA06VB-01     TR1     BGTIME  603  15.100909   \n",
       "..                  ...         ...     ...        ...  ...        ...   \n",
       "849 2022-09-16 13:03:51  RLA10VB-01     TR1    BCGTIME  987  15.245436   \n",
       "850 2022-09-16 13:03:51  RLA10VB-01     TR1    BCGTIME  987  15.221225   \n",
       "851 2022-09-16 13:03:51  RLA10VB-01     TR1    BCGTIME  987  15.278585   \n",
       "852 2022-09-16 13:03:51  RLA10VB-01     TR1    BCGTIME  987  15.278519   \n",
       "853 2022-09-16 13:03:51  RLA10VB-01     TR1    BCGTIME  987  15.278421   \n",
       "\n",
       "           long dev_id          aoj_name aoj_code  \n",
       "0    104.795120  WRA06    กฟส.กันทรารมย์   E02501  \n",
       "1    104.607411  WRA06    กฟส.กันทรารมย์   E02501  \n",
       "2    104.607825  WRA06    กฟส.กันทรารมย์   E02501  \n",
       "3    104.607501  WRA06    กฟส.กันทรารมย์   E02501  \n",
       "4    104.608454  WRA06    กฟส.กันทรารมย์   E02501  \n",
       "..          ...    ...               ...      ...  \n",
       "849  104.169534  RLA10  กฟส.อุทุมพรพิสัย   E02201  \n",
       "850  104.140112  RLA10  กฟส.อุทุมพรพิสัย   E02201  \n",
       "851  104.166938  RLA10  กฟส.อุทุมพรพิสัย   E02201  \n",
       "852  104.167406  RLA10  กฟส.อุทุมพรพิสัย   E02201  \n",
       "853  104.169038  RLA10  กฟส.อุทุมพรพิสัย   E02201  \n",
       "\n",
       "[854 rows x 10 columns]"
      ]
     },
     "execution_count": 81,
     "metadata": {},
     "output_type": "execute_result"
    }
   ],
   "source": [
    "sfla"
   ]
  },
  {
   "cell_type": "markdown",
   "metadata": {},
   "source": [
    "# Clustering"
   ]
  },
  {
   "cell_type": "code",
   "execution_count": 40,
   "metadata": {},
   "outputs": [],
   "source": [
    "# data and variable prep\n",
    "def get_time_available_index(date_time = np.array(data['dbTime'].tolist()),now = np.array(data['dbTime'].tolist())[-1]):\n",
    "  idx_available_time = []\n",
    "  for i in range(len(date_time)):\n",
    "    if (now - date_time[i]).days <= 30:\n",
    "      idx_available_time.append(i)\n",
    "  return idx_available_time\n",
    "\n",
    "def split_lat_long(lat_long_string):\n",
    "  arr = np.array(lat_long_string.split(','))\n",
    "  arr = arr.astype(float)\n",
    "  arr[0], arr[1] = arr[1], arr[0]\n",
    "  return arr\n",
    "\n",
    "def get_incident_no(time_col):\n",
    "  s = set(time_col)\n",
    "  tag = []\n",
    "  counter = 1\n",
    "  pointer = time_col[0]\n",
    "  for i in range(len(time_col)):\n",
    "    if time_col[i] == pointer:\n",
    "      tag.append(counter)\n",
    "    else:\n",
    "      pointer = time_col[i]\n",
    "      counter += 1\n",
    "      tag.append(counter) \n",
    "  \n",
    "  return np.array(tag)\n",
    "\n",
    "# clustering related functions\n",
    "def euclidean_distance(point_a,point_b):\n",
    "    \"\"\" \n",
    "        point_a[2] = lat\n",
    "        point_a[3] = long\n",
    "        point b has the same structure\n",
    "    \"\"\"\n",
    "    delta_y = point_a[0] - point_b[0]\n",
    "    delta_x = point_a[1] - point_b[1]\n",
    "    d = np.sqrt((delta_y**2) + (delta_x**2))\n",
    "\n",
    "    return d\n",
    "\n",
    "def compute_max_radius(points_with_label, cluster_centers):\n",
    "    \"\"\"\n",
    "        compute max radius of a cluster.\n",
    "    \"\"\"\n",
    "    max_radius = np.zeros(int(max(points_with_label[:,2]))+1)\n",
    "    for i in range(len(points_with_label)):\n",
    "        cluster_no = int(points_with_label[i][2])\n",
    "        radius = euclidean_distance(points_with_label[i],cluster_centers[cluster_no])*111\n",
    "        if radius > max_radius[cluster_no]:\n",
    "            max_radius[cluster_no] = radius\n",
    "        \n",
    "    return max_radius"
   ]
  },
  {
   "cell_type": "code",
   "execution_count": 39,
   "metadata": {},
   "outputs": [],
   "source": [
    "points = sfla[['long','lat']].to_numpy()\n",
    "tag = get_incident_no(sfla['db_time'].tolist())"
   ]
  },
  {
   "cell_type": "code",
   "execution_count": 41,
   "metadata": {},
   "outputs": [],
   "source": [
    "#find k\n",
    "for k in range(2,len(points)):\n",
    "    kmeans = KMeans(n_clusters=k, random_state=0).fit(points)\n",
    "    points_with_label = np.append(points,np.expand_dims(kmeans.labels_, axis=1),axis=1)\n",
    "    max_radius = compute_max_radius(points_with_label,kmeans.cluster_centers_)\n",
    "    if max(max_radius) <= 1.0:\n",
    "        break"
   ]
  },
  {
   "cell_type": "code",
   "execution_count": 154,
   "metadata": {},
   "outputs": [],
   "source": [
    "# filter available cluster\n",
    "def get_count_and_availability(points_with_label):\n",
    "  is_available = []\n",
    "  count = []\n",
    "  d = defaultdict(set)\n",
    "  for i in range(len(points_with_label)):\n",
    "    d[points_with_label[i][-1]].add(tag[i])\n",
    "  \n",
    "  for i in range(len(points_with_label)):\n",
    "    l = len(d[points_with_label[i][-1]])\n",
    "    if l >= 3:\n",
    "      is_available.append(1)\n",
    "      count.append(l)\n",
    "    else:\n",
    "      is_available.append(0)\n",
    "      count.append(l)\n",
    "  \n",
    "  points_with_label_availability = np.append(points_with_label,np.expand_dims(np.array(is_available), axis=1),axis=1)\n",
    "  points_with_label_availability_count = np.append(points_with_label_availability,np.expand_dims(np.array(count), axis=1),axis=1)\n",
    "  \n",
    "  return points_with_label_availability_count\n",
    "\n",
    "# work order generator related functions\n",
    "def compute_center(points):\n",
    "  x_min = np.min(points[:,0])\n",
    "  x_max = np.max(points[:,0])\n",
    "  y_min = np.min(points[:,1])\n",
    "  y_max = np.max(points[:,1])\n",
    "  cx = (x_min + x_max)/2\n",
    "  cy = (y_min + y_max)/2\n",
    "\n",
    "  # use one vertice of box to compute  \n",
    "  tl = np.array([x_min,y_max])\n",
    "  radius = euclidean_distance(tl, np.array([cx,cy]))\n",
    "  return cx, cy, radius\n",
    "\n",
    "def get_area_of_control(names):\n",
    "    \"\"\"\n",
    "        get pea_name which will appear in work order\n",
    "    \"\"\"\n",
    "    c = Counter(names)\n",
    "    l = [(key,value) for key,value in c.items()]\n",
    "    sorted_names = sorted(l, key=lambda tup: tup[1], reverse=True) # pea name with majority of points in a cluster\n",
    "    name = sorted_names[0][0]\n",
    "    return name\n",
    "\n",
    "def init_criteria_for_priority():\n",
    "    \n",
    "    count_criteria_dict = {3:1,4:2,5:3,6:4,7:5} # key = count, value = score\n",
    "    type_criteria_dict = {'TR1':2,'TR2':2,'TL':5}\n",
    "    \n",
    "    # create cb_user_dict\n",
    "    cb = pd.read_excel('CB_and_number_of_use.xlsx', index_col=False)\n",
    "    cb_user_dict = {}\n",
    "    facility_id = cb['FACILITYID'].tolist()\n",
    "    number_user = cb['NUMBEROFUS'].tolist()\n",
    "\n",
    "    assert len(facility_id) == len(number_user), 'length not compatible'\n",
    "    assert type(facility_id[0]) == str, 'type (device id) not compatible'\n",
    "    assert type(number_user[0]) == int, 'type (number of user) not compatible'\n",
    "\n",
    "    for i in range(len(facility_id)):\n",
    "        cb_user_dict[facility_id[i]] = number_user[i]\n",
    "    \n",
    "    return count_criteria_dict, type_criteria_dict, cb_user_dict\n",
    "\n",
    "def compute_priority(list_of_counts, list_of_ev_type, list_of_ev_device,count_criteria_dict, type_criteria_dict,cb_user_dict):\n",
    "    \"\"\"\n",
    "        list_of_counts: number of incident in a cluster\n",
    "        list_of_ev_type: type of TR/TL of each point\n",
    "    \"\"\"\n",
    "    assert len(set(list_of_counts)) == 1, f\"1 cluster must have 1 value of count, expected 1 got {len(set(list_of_counts))}\"\n",
    "    \n",
    "    count_score = 0\n",
    "    try:\n",
    "        count_score = count_criteria_dict[list_of_counts[0]]\n",
    "    except:\n",
    "        count_score = 5\n",
    "    \n",
    "    type_score = 0\n",
    "    try:\n",
    "        type_score = np.mean([type_criteria_dict[list_of_ev_type[i]] for i in range(len(list_of_ev_type))]) # avg score\n",
    "    except:\n",
    "        print(\"Error in ev_type\")\n",
    "        \n",
    "    customer_score = 0\n",
    "    try:\n",
    "        num_customer = []\n",
    "        ev_devices = set(list_of_ev_device)\n",
    "        for v in ev_devices:    \n",
    "            num_customer.append(cb_user_dict[v])\n",
    "        sum_customer = sum(num_customer)\n",
    "        \n",
    "        if sum_customer <= 2000:\n",
    "            customer_score = 1\n",
    "        if sum_customer > 2000 and sum_customer <= 3000:\n",
    "            customer_score = 2\n",
    "        if sum_customer > 3000 and sum_customer <= 4000:\n",
    "            customer_score = 3\n",
    "        if sum_customer > 4000 and sum_customer <= 5000:\n",
    "            customer_score = 4\n",
    "        if sum_customer > 5000:\n",
    "            customer_score = 5\n",
    "    except:\n",
    "        print(\"Something has error during computing customer score\")\n",
    "    \n",
    "    score = (0.4*customer_score) + (0.3*count_score) + (0.3*type_score)\n",
    "    priority = round(score)\n",
    "    return priority\n",
    "    \n",
    "def compute_cluster_data(points_with_label_availability_count, sfla_df):\n",
    "  \"\"\"\n",
    "    cluster data:\n",
    "      - center on x axis\n",
    "      - center on y axis\n",
    "      - radius\n",
    "      - name : which appears on work order \n",
    "    \n",
    "    input detail:\n",
    "      - points_with_label_availability_count[0]: long\n",
    "      - points_with_label_availability_count[1]: lat\n",
    "      - points_with_label_availability_count[2]: cluster number\n",
    "      - points_with_label_availability_count[3]: availability\n",
    "      - points_with_label_availability_count[4]: count\n",
    "  \"\"\"\n",
    "\n",
    "  names = np.array(sfla_df['aoj_name'].tolist())\n",
    "  types = np.array(sfla_df['ev_type'].tolist())\n",
    "  ev_device = np.array(sfla_df['ev_device'].tolist())\n",
    "  available_index = np.where(points_with_label_availability_count[:,-2]==1) # availability = 1\n",
    "  points_available = points_with_label_availability_count[available_index]\n",
    "  clusters = set(points_available[:,2]) # store unique cluster number\n",
    "  radius_dict = defaultdict(float)\n",
    "  cx_dict = defaultdict(float)\n",
    "  cy_dict = defaultdict(float)\n",
    "  name_dict = defaultdict(str)\n",
    "    \n",
    "  count_criteria_dict, type_criteria_dict, cb_user_dict = init_criteria_for_priority()  \n",
    "  priority_dict = defaultdict(int)\n",
    "    \n",
    "  # for each cluster, do:\n",
    "  for cluster_no in clusters:\n",
    "    indices = np.where(points_available[:,2]==cluster_no)\n",
    "    points = points_available[indices]\n",
    "    cx, cy, radius = compute_center(points[:,:2])\n",
    "    radius_dict[int(cluster_no)] = radius\n",
    "    cx_dict[int(cluster_no)] = cx\n",
    "    cy_dict[int(cluster_no)] = cy\n",
    "    \n",
    "    name = get_area_of_control(names[available_index][indices])\n",
    "    name_dict[int(cluster_no)] = name\n",
    "    \n",
    "    priority = compute_priority(points[:,4],types[available_index][indices], ev_device[available_index][indices],count_criteria_dict, type_criteria_dict, cb_user_dict)\n",
    "    priority_dict[int(cluster_no)] = priority\n",
    "  \n",
    "  return points_available, cx_dict, cy_dict, radius_dict, name_dict, priority_dict, available_index\n",
    "\n",
    "def add_feature(points_available, cx_dict, cy_dict, radius_dict, name_dict, priority_dict):\n",
    "  \"\"\"\n",
    "    input:\n",
    "    points_available[0]: longtitude\n",
    "    points_available[1]: latitude\n",
    "    points_available[2]: cluster_no\n",
    "    points_available[3]: is_available, must be 1\n",
    "    points_available[4]: count number of incident in a cluster\n",
    "    \n",
    "    output: new feature\n",
    "    points_available[5]: center on x axis\n",
    "    points_available[6]: center on y axis\n",
    "    points_available[7]: radius of cluster for plotting\n",
    "    points_available[8]: priority\n",
    "  \"\"\"\n",
    "  assert len(set(points_available[:,3])) == 1, 'logic error in compute_cluster_data function'\n",
    "  cx = []\n",
    "  cy = []\n",
    "  radius = []\n",
    "  name = []\n",
    "  priority = []\n",
    "    \n",
    "  for i in range(len(points_available)):\n",
    "    cx.append(cx_dict[points_available[i][2]])\n",
    "    cy.append(cy_dict[points_available[i][2]])\n",
    "    radius.append(radius_dict[points_available[i][2]])\n",
    "    name.append(name_dict[points_available[i][2]])\n",
    "    priority.append(priority_dict[points_available[i][2]])\n",
    "\n",
    "  assert len(points_available) == len(cx) == len(cy) == len(radius) == len(name) == len(priority), 'function logic error'\n",
    "    \n",
    "  points_available = np.append(points_available,np.expand_dims(np.array(cx), axis=1),axis=1)\n",
    "  points_available = np.append(points_available,np.expand_dims(np.array(cy), axis=1),axis=1)\n",
    "  points_available = np.append(points_available,np.expand_dims(np.array(radius), axis=1),axis=1)\n",
    "  points_available = np.append(points_available,np.expand_dims(np.array(priority), axis=1),axis=1)\n",
    "\n",
    "  return points_available, name"
   ]
  },
  {
   "cell_type": "code",
   "execution_count": 155,
   "metadata": {},
   "outputs": [],
   "source": [
    "points_with_label_availability_count = get_count_and_availability(points_with_label)"
   ]
  },
  {
   "cell_type": "code",
   "execution_count": 156,
   "metadata": {},
   "outputs": [],
   "source": [
    "points_available, cx_dict, cy_dict, radius_dict, name_dict, priority_dict, available_index = compute_cluster_data(points_with_label_availability_count, sfla)"
   ]
  },
  {
   "cell_type": "code",
   "execution_count": 157,
   "metadata": {},
   "outputs": [],
   "source": [
    "points_available, name = add_feature(points_available, cx_dict, cy_dict, radius_dict, name_dict, priority_dict)"
   ]
  },
  {
   "cell_type": "code",
   "execution_count": 158,
   "metadata": {},
   "outputs": [],
   "source": [
    "data_left = sfla.drop(['lat', 'long'], axis=1).to_numpy()"
   ]
  },
  {
   "cell_type": "code",
   "execution_count": 159,
   "metadata": {},
   "outputs": [],
   "source": [
    "data_left_available = data_left[available_index]"
   ]
  },
  {
   "cell_type": "code",
   "execution_count": 160,
   "metadata": {},
   "outputs": [],
   "source": [
    "assert len(data_left_available) == len(points_available), \"incompatible length\""
   ]
  },
  {
   "cell_type": "code",
   "execution_count": 161,
   "metadata": {},
   "outputs": [],
   "source": [
    "data_available = np.concatenate((data_left_available,points_available), axis=1)\n",
    "data_available = np.c_[data_available,np.array(name)]\n",
    "data_available = data_available[data_available[:, 10].argsort()]"
   ]
  },
  {
   "cell_type": "code",
   "execution_count": 162,
   "metadata": {},
   "outputs": [
    {
     "data": {
      "text/plain": [
       "array([Timestamp('2021-03-06 15:28:30'), 'WRA06VB-01', 'TR2', 'ABCTIME',\n",
       "       1195, 'WRA06', 'กฟส.กันทรารมย์', 'E02501', 104.6604896, 15.1188775,\n",
       "       0.0, 1.0, 5.0, 104.65816585, 15.11877655, 0.002563158361281936,\n",
       "       4.0, 'กฟส.กันทรารมย์'], dtype=object)"
      ]
     },
     "execution_count": 162,
     "metadata": {},
     "output_type": "execute_result"
    }
   ],
   "source": [
    "data_available[0]"
   ]
  },
  {
   "cell_type": "code",
   "execution_count": 163,
   "metadata": {},
   "outputs": [
    {
     "data": {
      "text/plain": [
       "Counter({'กฟส.กันทรารมย์': 413, 'กฟส.อุทุมพรพิสัย': 30, 'กฟจ.ยโสธร': 9})"
      ]
     },
     "execution_count": 163,
     "metadata": {},
     "output_type": "execute_result"
    }
   ],
   "source": [
    "Counter(data_available[:,-1])"
   ]
  },
  {
   "cell_type": "code",
   "execution_count": 164,
   "metadata": {},
   "outputs": [
    {
     "data": {
      "text/html": [
       "<div>\n",
       "<style scoped>\n",
       "    .dataframe tbody tr th:only-of-type {\n",
       "        vertical-align: middle;\n",
       "    }\n",
       "\n",
       "    .dataframe tbody tr th {\n",
       "        vertical-align: top;\n",
       "    }\n",
       "\n",
       "    .dataframe thead th {\n",
       "        text-align: right;\n",
       "    }\n",
       "</style>\n",
       "<table border=\"1\" class=\"dataframe\">\n",
       "  <thead>\n",
       "    <tr style=\"text-align: right;\">\n",
       "      <th></th>\n",
       "      <th>db_time</th>\n",
       "      <th>ev_device</th>\n",
       "      <th>ev_type</th>\n",
       "      <th>fault_type</th>\n",
       "      <th>amp</th>\n",
       "      <th>lat</th>\n",
       "      <th>long</th>\n",
       "      <th>dev_id</th>\n",
       "      <th>aoj_name</th>\n",
       "      <th>aoj_code</th>\n",
       "    </tr>\n",
       "  </thead>\n",
       "  <tbody>\n",
       "    <tr>\n",
       "      <th>0</th>\n",
       "      <td>2021-08-02 23:42:17</td>\n",
       "      <td>WRA06VB-01</td>\n",
       "      <td>TR1</td>\n",
       "      <td>BGTIME</td>\n",
       "      <td>603</td>\n",
       "      <td>15.172772</td>\n",
       "      <td>104.795120</td>\n",
       "      <td>WRA06</td>\n",
       "      <td>กฟส.กันทรารมย์</td>\n",
       "      <td>E02501</td>\n",
       "    </tr>\n",
       "    <tr>\n",
       "      <th>1</th>\n",
       "      <td>2021-08-02 23:42:17</td>\n",
       "      <td>WRA06VB-01</td>\n",
       "      <td>TR1</td>\n",
       "      <td>BGTIME</td>\n",
       "      <td>603</td>\n",
       "      <td>15.100765</td>\n",
       "      <td>104.607411</td>\n",
       "      <td>WRA06</td>\n",
       "      <td>กฟส.กันทรารมย์</td>\n",
       "      <td>E02501</td>\n",
       "    </tr>\n",
       "  </tbody>\n",
       "</table>\n",
       "</div>"
      ],
      "text/plain": [
       "              db_time   ev_device ev_type fault_type  amp        lat  \\\n",
       "0 2021-08-02 23:42:17  WRA06VB-01     TR1     BGTIME  603  15.172772   \n",
       "1 2021-08-02 23:42:17  WRA06VB-01     TR1     BGTIME  603  15.100765   \n",
       "\n",
       "         long dev_id        aoj_name aoj_code  \n",
       "0  104.795120  WRA06  กฟส.กันทรารมย์   E02501  \n",
       "1  104.607411  WRA06  กฟส.กันทรารมย์   E02501  "
      ]
     },
     "execution_count": 164,
     "metadata": {},
     "output_type": "execute_result"
    }
   ],
   "source": [
    "sfla.head(2)"
   ]
  },
  {
   "cell_type": "code",
   "execution_count": 165,
   "metadata": {},
   "outputs": [],
   "source": [
    "def create_shortname_dict():\n",
    "    name_dict = {}\n",
    "    name_data = pd.read_excel('NE2-name.xlsx',index_col=False)\n",
    "    full_name = name_data['ชื่อ กฟฟ. 117 แห่ง'].tolist()\n",
    "    short_name = name_data['รหัสย่อภาษาอังกฤษ'].tolist()\n",
    "    assert len(full_name) == len(short_name)\n",
    "    \n",
    "    for i in range(len(full_name)):\n",
    "        name_dict[full_name[i]] = short_name[i]\n",
    "    return name_dict\n",
    "\n",
    "def get_area_code():\n",
    "    \"\"\"\n",
    "        this function will be updated in the future if the app covers whole country.\n",
    "    \"\"\"\n",
    "    return '05'\n",
    "\n",
    "# gen work order\n",
    "def gen_work_order(data_available):\n",
    "    \"\"\"\n",
    "        input:\n",
    "        data_available[0]: db_time\n",
    "        data_available[1]: ev_device\n",
    "        data_available[2]: ev_type\n",
    "        data_available[3]: fault_type\n",
    "        data_available[4]: amp\n",
    "        data_available[5]: dev_id\n",
    "        data_available[6]: aoj_name\n",
    "        data_available[7]: aoj_code\n",
    "        data_available[8]: longitude\n",
    "        data_available[9]: latitude\n",
    "        data_available[10]: cluster number\n",
    "        data_available[11]: availability\n",
    "        data_available[12]: count (incident count)\n",
    "        data_available[13]: center on x axis\n",
    "        data_available[14]: center on y axis\n",
    "        data_available[15]: radius (grid unit)\n",
    "        data_available[16]: priority\n",
    "        data_available[17]: pea in charge (pea name appears on work order) - 1 name per cluster\n",
    "    \"\"\"  \n",
    "\n",
    "    today = datetime.datetime.now()\n",
    "    pea_shortname_dict = create_shortname_dict()\n",
    "    year = (today.year + 543) % 100\n",
    "    cluster_to_aoj_dict = {}\n",
    "    count_dict = {}\n",
    "\n",
    "    # this for generating mock RM workorder code\n",
    "    pointer = [data_available[0][10],data_available[0][-1]]\n",
    "  \n",
    "  \n",
    "    for i in range(len(data_available)):\n",
    "        cluster_no = data_available[i][10]\n",
    "        cluster_to_aoj_dict[cluster_no] = data_available[i][-1]\n",
    "  \n",
    "    for x in set(data_available[:,-1]):\n",
    "        count_dict[x] = 1\n",
    "  \n",
    "    work_order_codes = []\n",
    "\n",
    "    for i in range(len(data_available)):\n",
    "        if [data_available[i][10], data_available[i][-1]] == pointer:\n",
    "            cluster_no = data_available[i][10]\n",
    "            pea_short_name =  pea_shortname_dict[cluster_to_aoj_dict[cluster_no]]\n",
    "            area_code = get_area_code()\n",
    "            work_order_code = \"RM\"+\"_\"+f\"{year}\"+\"_\"+area_code+\"_\"+pea_short_name+\"_\"+str(count_dict[data_available[i][-1]]).zfill(5)\n",
    "            work_order_codes.append(work_order_code)\n",
    "        if not([data_available[i][10],data_available[i][-1]] == pointer):\n",
    "            count_dict[pointer[1]] += 1\n",
    "            pointer = [data_available[i][10],data_available[i][-1]]\n",
    "            cluster_no = data_available[i][10]\n",
    "            pea_short_name =  pea_shortname_dict[cluster_to_aoj_dict[cluster_no]]\n",
    "            area_code = get_area_code()\n",
    "            work_order_code = \"RM\"+\"_\"+f\"{year}\"+\"_\"+area_code+\"_\"+pea_short_name+\"_\"+str(count_dict[data_available[i][-1]]).zfill(5)\n",
    "            work_order_codes.append(work_order_code)\n",
    "\n",
    "    data_available = np.c_[data_available,np.array(work_order_codes)]\n",
    "\n",
    "    # create mock status\n",
    "    work_order_status_mock_dict = {}\n",
    "\n",
    "    for w in work_order_codes:\n",
    "        work_order_status_mock_dict[w] = np.random.randint(0,3)\n",
    "  \n",
    "    mock_status = []\n",
    "    for w in work_order_codes:\n",
    "        mock_status.append(work_order_status_mock_dict[w])\n",
    "    \n",
    "    data_available = np.c_[data_available,np.array(mock_status)]\n",
    "\n",
    "    return data_available, count_dict"
   ]
  },
  {
   "cell_type": "code",
   "execution_count": 189,
   "metadata": {},
   "outputs": [],
   "source": [
    "work_order_codes, count_dict = gen_work_order(data_available)"
   ]
  },
  {
   "cell_type": "code",
   "execution_count": 190,
   "metadata": {},
   "outputs": [
    {
     "data": {
      "text/plain": [
       "array([Timestamp('2021-03-06 15:28:30'), 'WRA06VB-01', 'TR2', 'ABCTIME',\n",
       "       1195, 'WRA06', 'กฟส.กันทรารมย์', 'E02501', 104.6604896, 15.1188775,\n",
       "       0.0, 1.0, 5.0, 104.65816585, 15.11877655, 0.002563158361281936,\n",
       "       4.0, 'กฟส.กันทรารมย์', 'RM_65_05_KTM_00001', 2], dtype=object)"
      ]
     },
     "execution_count": 190,
     "metadata": {},
     "output_type": "execute_result"
    }
   ],
   "source": [
    "work_order_codes[0]"
   ]
  },
  {
   "cell_type": "markdown",
   "metadata": {},
   "source": [
    "# RM POST API"
   ]
  },
  {
   "cell_type": "code",
   "execution_count": 198,
   "metadata": {},
   "outputs": [],
   "source": [
    "def get_work_type():\n",
    "    return \"ตรวจตราระบบจำหน่าย\"\n",
    "\n",
    "def get_deadline(now):\n",
    "    deadline = now + datetime.timedelta(days=30)\n",
    "    return deadline.strftime(\"%m/%d/%Y %H:%M:%S\")\n",
    "\n",
    "def get_json_data(work_order_codes):\n",
    "    \"\"\"\n",
    "        input: column detail\n",
    "        work_order_codes[0]: db_time\n",
    "        work_order_codes[1]: ev_device\n",
    "        work_order_codes[2]: ev_type\n",
    "        work_order_codes[3]: fault_type\n",
    "        work_order_codes[4]: amp\n",
    "        work_order_codes[5]: dev_id\n",
    "        work_order_codes[6]: aoj_name\n",
    "        work_order_codes[7]: aoj_code\n",
    "        work_order_codes[8]: longitude\n",
    "        work_order_codes[9]: latitude\n",
    "        work_order_codes[10]: cluster number\n",
    "        work_order_codes[11]: availability\n",
    "        work_order_codes[12]: count (incident count)\n",
    "        work_order_codes[13]: center on x axis\n",
    "        work_order_codes[14]: center on y axis\n",
    "        work_order_codes[15]: radius (grid unit)\n",
    "        work_order_codes[16]: priority\n",
    "        work_order_codes[17]: pea in charge (pea name appears on work order) - 1 name per cluster\n",
    "        work_order_codes[18]: work order number\n",
    "        work_order_codes[19]: status\n",
    "    \"\"\" \n",
    "    now = datetime.datetime.now() # time which work order is generated\n",
    "    work_order_data = []\n",
    "    for i in range(len(work_order_codes)):\n",
    "        d = {\n",
    "            'db_time': work_order_codes[i][0].strftime(\"%m/%d/%Y %H:%M:%S\"),\n",
    "            'ev_device': work_order_codes[i][1],\n",
    "            'ev_type': work_order_codes[i][2],\n",
    "            'fault_type': work_order_codes[i][3],\n",
    "            'amp': work_order_codes[i][4],\n",
    "            'device_id': work_order_codes[i][5],\n",
    "            'aoj_name': work_order_codes[i][6],\n",
    "            'aoj_code': work_order_codes[i][7],\n",
    "            'long': work_order_codes[i][8],\n",
    "            'lat': work_order_codes[i][9],\n",
    "            'center_x': work_order_codes[i][13],\n",
    "            'center_y': work_order_codes[i][14],\n",
    "            'radius': work_order_codes[i][15],\n",
    "            'count': int(work_order_codes[i][12]),\n",
    "            'priority': int(work_order_codes[i][16]),\n",
    "            'work_name': work_order_codes[i][18],\n",
    "            'work_type': get_work_type(), # now fix at \"ตรวจตราระบบจำหน่าย\"\n",
    "            'work_status': work_order_codes[i][19],\n",
    "            'pea_area': get_area_code(), # now fix at '05'\n",
    "            'pea_in_charge': work_order_codes[i][17],\n",
    "            'create_date': now.strftime(\"%m/%d/%Y %H:%M:%S\"),\n",
    "            'deadline': get_deadline(now),\n",
    "            'customers': cb_user_dict[work_order_codes[i][1]]\n",
    "        }\n",
    "        work_order_data.append(d)\n",
    "    \n",
    "    return work_order_data"
   ]
  },
  {
   "cell_type": "code",
   "execution_count": 199,
   "metadata": {},
   "outputs": [],
   "source": [
    "work_order_data = get_json_data(work_order_codes)"
   ]
  },
  {
   "cell_type": "code",
   "execution_count": 200,
   "metadata": {},
   "outputs": [
    {
     "name": "stdout",
     "output_type": "stream",
     "text": [
      "The pastebin URL is:Create RM API OK\n"
     ]
    }
   ],
   "source": [
    "# defining the api-endpoint \n",
    "API_ENDPOINT_WRITE_RM = \"http://127.0.0.1:1234/RM/create\"\n",
    "\n",
    "# sending post request and saving response as response object\n",
    "headers = {'Content-Type': 'application/json', 'Accept':'application/json'}\n",
    "r = requests.post(url = API_ENDPOINT_WRITE_RM, data = json.dumps(work_order_data), headers=headers)\n",
    "  \n",
    "# extracting response text \n",
    "pastebin_url = r.text\n",
    "print(\"The pastebin URL is:%s\"%pastebin_url)"
   ]
  },
  {
   "cell_type": "code",
   "execution_count": null,
   "metadata": {},
   "outputs": [],
   "source": []
  }
 ],
 "metadata": {
  "kernelspec": {
   "display_name": "Python 3",
   "language": "python",
   "name": "python3"
  },
  "language_info": {
   "codemirror_mode": {
    "name": "ipython",
    "version": 3
   },
   "file_extension": ".py",
   "mimetype": "text/x-python",
   "name": "python",
   "nbconvert_exporter": "python",
   "pygments_lexer": "ipython3",
   "version": "3.7.4"
  }
 },
 "nbformat": 4,
 "nbformat_minor": 4
}
